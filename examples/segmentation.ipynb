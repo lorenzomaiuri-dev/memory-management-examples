{
 "cells": [
  {
   "cell_type": "code",
   "execution_count": 13,
   "metadata": {},
   "outputs": [],
   "source": [
    "from typing import *\n",
    "import matplotlib.pyplot as plt"
   ]
  },
  {
   "cell_type": "code",
   "execution_count": 14,
   "metadata": {},
   "outputs": [],
   "source": [
    "class Segment:\n",
    "    \"\"\"Class to represent a memory segment.\"\"\"\n",
    "\n",
    "\n",
    "    def __init__(self, process_id: int, segment_name: str, base_address: int, size: int):\n",
    "        self.process_id = process_id\n",
    "        self.segment_name = segment_name\n",
    "        self.base_address = base_address\n",
    "        self.size = size\n",
    "\n",
    "\n",
    "    def __repr__(self):\n",
    "        return f\"Segment(Process={self.process_id}, Name={self.segment_name}, Base Address={self.base_address}, Size={self.size})\""
   ]
  },
  {
   "cell_type": "code",
   "execution_count": 15,
   "metadata": {},
   "outputs": [],
   "source": [
    "class PhysicalMemory:\n",
    "    \"\"\"Class to represent physical memory.\"\"\"\n",
    "\n",
    "\n",
    "    def __init__(self, total_size: int):\n",
    "        self.total_size = total_size\n",
    "        self.memory = [None] * total_size\n",
    "        self.segments = []\n",
    "\n",
    "\n",
    "    def allocate_segment(self, process_id: int, segment_name: str, size: int):\n",
    "        \"\"\"Allocate a segment in memory.\"\"\"\n",
    "\n",
    "        # Find a free block large enough\n",
    "        free_start = None\n",
    "        free_count = 0\n",
    "\n",
    "        for i in range(self.total_size):\n",
    "            if self.memory[i] is None:\n",
    "                free_count += 1\n",
    "                if free_start is None:\n",
    "                    free_start = i\n",
    "\n",
    "                if free_count == size:  # Found a suitable block\n",
    "                    for j in range(free_start, free_start + size):\n",
    "                        self.memory[j] = f\"{process_id}:{segment_name}\"\n",
    "\n",
    "                    segment = Segment(process_id, segment_name, free_start, size)\n",
    "                    self.segments.append(segment)\n",
    "                    return segment\n",
    "            else:\n",
    "                free_start = None\n",
    "                free_count = 0\n",
    "\n",
    "        raise MemoryError(f\"Not enough memory to allocate segment {segment_name} for process {process_id}.\")\n",
    "\n",
    "\n",
    "    def deallocate_segment(self, segment_name: str):\n",
    "        \"\"\"Deallocate a segment from memory.\"\"\"\n",
    "\n",
    "        segment = next((s for s in self.segments if s.segment_name == segment_name), None)\n",
    "        if not segment:\n",
    "            raise ValueError(f\"Segment {segment_name} not found.\")\n",
    "\n",
    "        for i in range(segment.base_address, segment.base_address + segment.size):\n",
    "            self.memory[i] = None\n",
    "\n",
    "        self.segments.remove(segment)\n",
    "\n",
    "\n",
    "    def display_memory(self):\n",
    "        \"\"\"Display the current state of memory.\"\"\"\n",
    "\n",
    "        print(\"Physical Memory State (PROCESS:SEGMENT):\")\n",
    "        print(\"\\n\".join(f'[{i}] {x}' if x else \".\" for i, x in enumerate(self.memory)))\n",
    "        print(\"Allocated Segments:\")\n",
    "        for segment in self.segments:\n",
    "            print(segment)\n",
    "    \n",
    "    def visualize_memory(self):\n",
    "        \"\"\"Visualize memory allocation using a bar chart.\"\"\"\n",
    "        \n",
    "        plt.figure(figsize=(10, 2))\n",
    "        colors = [\"lightblue\" if cell else \"gray\" for cell in self.memory]\n",
    "        labels = [str(cell) if cell else \"Free\" for cell in self.memory]\n",
    "\n",
    "        plt.bar(range(self.total_size), [1] * self.total_size, color=colors, edgecolor=\"black\")\n",
    "        plt.xticks(range(self.total_size), labels, fontsize=8, rotation=90)\n",
    "        plt.title(\"Memory Allocation\")\n",
    "        plt.xlabel(\"Memory Address\")\n",
    "        plt.ylabel(\"Usage (1=Occupied, 0=Free)\")\n",
    "        plt.tight_layout()\n",
    "        plt.show()"
   ]
  },
  {
   "cell_type": "code",
   "execution_count": 16,
   "metadata": {},
   "outputs": [
    {
     "name": "stdout",
     "output_type": "stream",
     "text": [
      "Allocating segments...\n"
     ]
    }
   ],
   "source": [
    "# Create physical memory with 50 units of size\n",
    "physical_memory = PhysicalMemory(50)\n",
    "\n",
    "# Allocate memory for processes\n",
    "print(\"Allocating segments...\")\n",
    "try:\n",
    "    physical_memory.allocate_segment(1, \"Code\", 10)\n",
    "    physical_memory.allocate_segment(1, \"Data\", 5)\n",
    "    physical_memory.allocate_segment(2, \"Code\", 8)\n",
    "    physical_memory.allocate_segment(3, \"Stack\", 6)\n",
    "except MemoryError as e:\n",
    "    print(e)"
   ]
  },
  {
   "cell_type": "code",
   "execution_count": 17,
   "metadata": {},
   "outputs": [
    {
     "name": "stdout",
     "output_type": "stream",
     "text": [
      "Physical Memory State (PROCESS:SEGMENT):\n",
      "[0] 1:Code\n",
      "[1] 1:Code\n",
      "[2] 1:Code\n",
      "[3] 1:Code\n",
      "[4] 1:Code\n",
      "[5] 1:Code\n",
      "[6] 1:Code\n",
      "[7] 1:Code\n",
      "[8] 1:Code\n",
      "[9] 1:Code\n",
      "[10] 1:Data\n",
      "[11] 1:Data\n",
      "[12] 1:Data\n",
      "[13] 1:Data\n",
      "[14] 1:Data\n",
      "[15] 2:Code\n",
      "[16] 2:Code\n",
      "[17] 2:Code\n",
      "[18] 2:Code\n",
      "[19] 2:Code\n",
      "[20] 2:Code\n",
      "[21] 2:Code\n",
      "[22] 2:Code\n",
      "[23] 3:Stack\n",
      "[24] 3:Stack\n",
      "[25] 3:Stack\n",
      "[26] 3:Stack\n",
      "[27] 3:Stack\n",
      "[28] 3:Stack\n",
      ".\n",
      ".\n",
      ".\n",
      ".\n",
      ".\n",
      ".\n",
      ".\n",
      ".\n",
      ".\n",
      ".\n",
      ".\n",
      ".\n",
      ".\n",
      ".\n",
      ".\n",
      ".\n",
      ".\n",
      ".\n",
      ".\n",
      ".\n",
      ".\n",
      "Allocated Segments:\n",
      "Segment(Process=1, Name=Code, Base Address=0, Size=10)\n",
      "Segment(Process=1, Name=Data, Base Address=10, Size=5)\n",
      "Segment(Process=2, Name=Code, Base Address=15, Size=8)\n",
      "Segment(Process=3, Name=Stack, Base Address=23, Size=6)\n"
     ]
    }
   ],
   "source": [
    "# Display memory\n",
    "physical_memory.display_memory()"
   ]
  },
  {
   "cell_type": "code",
   "execution_count": 18,
   "metadata": {},
   "outputs": [
    {
     "data": {
      "image/png": "[encoded data removed]",
      "text/plain": [
       "<Figure size 1000x200 with 1 Axes>"
      ]
     },
     "metadata": {},
     "output_type": "display_data"
    }
   ],
   "source": [
    "physical_memory.visualize_memory()"
   ]
  },
  {
   "cell_type": "code",
   "execution_count": 19,
   "metadata": {},
   "outputs": [
    {
     "name": "stdout",
     "output_type": "stream",
     "text": [
      "Deallocating segment 'Data' from Process 1...\n"
     ]
    }
   ],
   "source": [
    "# Deallocate a segment\n",
    "print(\"Deallocating segment 'Data' from Process 1...\")\n",
    "try:\n",
    "    physical_memory.deallocate_segment(\"Data\")\n",
    "except ValueError as e:\n",
    "    print(e)"
   ]
  },
  {
   "cell_type": "code",
   "execution_count": 20,
   "metadata": {},
   "outputs": [
    {
     "name": "stdout",
     "output_type": "stream",
     "text": [
      "Physical Memory State (PROCESS:SEGMENT):\n",
      "[0] 1:Code\n",
      "[1] 1:Code\n",
      "[2] 1:Code\n",
      "[3] 1:Code\n",
      "[4] 1:Code\n",
      "[5] 1:Code\n",
      "[6] 1:Code\n",
      "[7] 1:Code\n",
      "[8] 1:Code\n",
      "[9] 1:Code\n",
      ".\n",
      ".\n",
      ".\n",
      ".\n",
      ".\n",
      "[15] 2:Code\n",
      "[16] 2:Code\n",
      "[17] 2:Code\n",
      "[18] 2:Code\n",
      "[19] 2:Code\n",
      "[20] 2:Code\n",
      "[21] 2:Code\n",
      "[22] 2:Code\n",
      "[23] 3:Stack\n",
      "[24] 3:Stack\n",
      "[25] 3:Stack\n",
      "[26] 3:Stack\n",
      "[27] 3:Stack\n",
      "[28] 3:Stack\n",
      ".\n",
      ".\n",
      ".\n",
      ".\n",
      ".\n",
      ".\n",
      ".\n",
      ".\n",
      ".\n",
      ".\n",
      ".\n",
      ".\n",
      ".\n",
      ".\n",
      ".\n",
      ".\n",
      ".\n",
      ".\n",
      ".\n",
      ".\n",
      ".\n",
      "Allocated Segments:\n",
      "Segment(Process=1, Name=Code, Base Address=0, Size=10)\n",
      "Segment(Process=2, Name=Code, Base Address=15, Size=8)\n",
      "Segment(Process=3, Name=Stack, Base Address=23, Size=6)\n"
     ]
    }
   ],
   "source": [
    "# Display memory\n",
    "physical_memory.display_memory()"
   ]
  },
  {
   "cell_type": "code",
   "execution_count": 21,
   "metadata": {},
   "outputs": [
    {
     "data": {
      "image/png": "[encoded data removed]",
      "text/plain": [
       "<Figure size 1000x200 with 1 Axes>"
      ]
     },
     "metadata": {},
     "output_type": "display_data"
    }
   ],
   "source": [
    "physical_memory.visualize_memory()"
   ]
  },
  {
   "cell_type": "code",
   "execution_count": 22,
   "metadata": {},
   "outputs": [
    {
     "name": "stdout",
     "output_type": "stream",
     "text": [
      "Attempting to allocate a large segment...\n",
      "Not enough memory to allocate segment LargeSegment for process 4.\n"
     ]
    }
   ],
   "source": [
    "# Attempt to allocate a large segment\n",
    "print(\"Attempting to allocate a large segment...\")\n",
    "try:\n",
    "    physical_memory.allocate_segment(4, \"LargeSegment\", 25)\n",
    "except MemoryError as e:\n",
    "    print(e)"
   ]
  },
  {
   "cell_type": "code",
   "execution_count": 23,
   "metadata": {},
   "outputs": [
    {
     "name": "stdout",
     "output_type": "stream",
     "text": [
      "Physical Memory State (PROCESS:SEGMENT):\n",
      "[0] 1:Code\n",
      "[1] 1:Code\n",
      "[2] 1:Code\n",
      "[3] 1:Code\n",
      "[4] 1:Code\n",
      "[5] 1:Code\n",
      "[6] 1:Code\n",
      "[7] 1:Code\n",
      "[8] 1:Code\n",
      "[9] 1:Code\n",
      ".\n",
      ".\n",
      ".\n",
      ".\n",
      ".\n",
      "[15] 2:Code\n",
      "[16] 2:Code\n",
      "[17] 2:Code\n",
      "[18] 2:Code\n",
      "[19] 2:Code\n",
      "[20] 2:Code\n",
      "[21] 2:Code\n",
      "[22] 2:Code\n",
      "[23] 3:Stack\n",
      "[24] 3:Stack\n",
      "[25] 3:Stack\n",
      "[26] 3:Stack\n",
      "[27] 3:Stack\n",
      "[28] 3:Stack\n",
      ".\n",
      ".\n",
      ".\n",
      ".\n",
      ".\n",
      ".\n",
      ".\n",
      ".\n",
      ".\n",
      ".\n",
      ".\n",
      ".\n",
      ".\n",
      ".\n",
      ".\n",
      ".\n",
      ".\n",
      ".\n",
      ".\n",
      ".\n",
      ".\n",
      "Allocated Segments:\n",
      "Segment(Process=1, Name=Code, Base Address=0, Size=10)\n",
      "Segment(Process=2, Name=Code, Base Address=15, Size=8)\n",
      "Segment(Process=3, Name=Stack, Base Address=23, Size=6)\n"
     ]
    }
   ],
   "source": [
    "# Final memory state\n",
    "physical_memory.display_memory()"
   ]
  },
  {
   "cell_type": "code",
   "execution_count": 24,
   "metadata": {},
   "outputs": [
    {
     "data": {
      "image/png": "[encoded data removed]",
      "text/plain": [
       "<Figure size 1000x200 with 1 Axes>"
      ]
     },
     "metadata": {},
     "output_type": "display_data"
    }
   ],
   "source": [
    "physical_memory.visualize_memory()"
   ]
  },
  {
   "cell_type": "code",
   "execution_count": 25,
   "metadata": {},
   "outputs": [
    {
     "name": "stdout",
     "output_type": "stream",
     "text": [
      "Allocating segments...\n"
     ]
    }
   ],
   "source": [
    "# Allocate memory for processes\n",
    "print(\"Allocating segments...\")\n",
    "try:\n",
    "    physical_memory.allocate_segment(1, \"Data\", 3)\n",
    "except MemoryError as e:\n",
    "    print(e)"
   ]
  },
  {
   "cell_type": "code",
   "execution_count": 26,
   "metadata": {},
   "outputs": [
    {
     "name": "stdout",
     "output_type": "stream",
     "text": [
      "Physical Memory State (PROCESS:SEGMENT):\n",
      "[0] 1:Code\n",
      "[1] 1:Code\n",
      "[2] 1:Code\n",
      "[3] 1:Code\n",
      "[4] 1:Code\n",
      "[5] 1:Code\n",
      "[6] 1:Code\n",
      "[7] 1:Code\n",
      "[8] 1:Code\n",
      "[9] 1:Code\n",
      "[10] 1:Data\n",
      "[11] 1:Data\n",
      "[12] 1:Data\n",
      ".\n",
      ".\n",
      "[15] 2:Code\n",
      "[16] 2:Code\n",
      "[17] 2:Code\n",
      "[18] 2:Code\n",
      "[19] 2:Code\n",
      "[20] 2:Code\n",
      "[21] 2:Code\n",
      "[22] 2:Code\n",
      "[23] 3:Stack\n",
      "[24] 3:Stack\n",
      "[25] 3:Stack\n",
      "[26] 3:Stack\n",
      "[27] 3:Stack\n",
      "[28] 3:Stack\n",
      ".\n",
      ".\n",
      ".\n",
      ".\n",
      ".\n",
      ".\n",
      ".\n",
      ".\n",
      ".\n",
      ".\n",
      ".\n",
      ".\n",
      ".\n",
      ".\n",
      ".\n",
      ".\n",
      ".\n",
      ".\n",
      ".\n",
      ".\n",
      ".\n",
      "Allocated Segments:\n",
      "Segment(Process=1, Name=Code, Base Address=0, Size=10)\n",
      "Segment(Process=2, Name=Code, Base Address=15, Size=8)\n",
      "Segment(Process=3, Name=Stack, Base Address=23, Size=6)\n",
      "Segment(Process=1, Name=Data, Base Address=10, Size=3)\n"
     ]
    }
   ],
   "source": [
    "# Final memory state\n",
    "physical_memory.display_memory()"
   ]
  },
  {
   "cell_type": "code",
   "execution_count": 27,
   "metadata": {},
   "outputs": [
    {
     "data": {
      "image/png": "[encoded data removed]",
      "text/plain": [
       "<Figure size 1000x200 with 1 Axes>"
      ]
     },
     "metadata": {},
     "output_type": "display_data"
    }
   ],
   "source": [
    "physical_memory.visualize_memory()"
   ]
  }
 ],
 "metadata": {
  "kernelspec": {
   "display_name": "venv",
   "language": "python",
   "name": "python3"
  },
  "language_info": {
   "codemirror_mode": {
    "name": "ipython",
    "version": 3
   },
   "file_extension": ".py",
   "mimetype": "text/x-python",
   "name": "python",
   "nbconvert_exporter": "python",
   "pygments_lexer": "ipython3",
   "version": "3.11.2"
  }
 },
 "nbformat": 4,
 "nbformat_minor": 2
}
